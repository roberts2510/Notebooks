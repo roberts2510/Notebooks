{
 "cells": [
  {
   "cell_type": "code",
   "execution_count": 67,
   "metadata": {},
   "outputs": [],
   "source": [
    "import pandas as pd"
   ]
  },
  {
   "cell_type": "code",
   "execution_count": 76,
   "metadata": {},
   "outputs": [
    {
     "name": "stderr",
     "output_type": "stream",
     "text": [
      "C:\\Users\\safiu\\Anaconda2\\lib\\site-packages\\ipykernel_launcher.py:1: FutureWarning: read_table is deprecated, use read_csv instead.\n",
      "  \"\"\"Entry point for launching an IPython kernel.\n"
     ]
    }
   ],
   "source": [
    "frame = pd.read_table('checkins.dat', sep='|', skipinitialspace = True, header=[0],skiprows=[1] )\n",
    "frame.dropna(axis='rows', inplace=True)"
   ]
  },
  {
   "cell_type": "code",
   "execution_count": 89,
   "metadata": {},
   "outputs": [
    {
     "name": "stdout",
     "output_type": "stream",
     "text": [
      "         latitude   longitude\n",
      "2       38.895112  -77.036366\n",
      "4       33.800745  -84.410520\n",
      "8       45.523452 -122.676207\n",
      "10      40.764462 -111.904565\n",
      "11      33.448377 -112.074037\n",
      "12      32.221743 -110.926479\n",
      "13      40.650000  -73.950000\n",
      "14      33.448377 -112.074037\n",
      "16      33.414768 -111.909309\n",
      "19      42.358431  -71.059773\n",
      "20      33.448377 -112.074037\n",
      "21      33.414768 -111.909309\n",
      "26      33.448377 -112.074037\n",
      "27      33.248664 -111.634299\n",
      "28      32.840678 -117.258794\n",
      "30      34.052234 -118.243685\n",
      "35      33.414768 -111.909309\n",
      "36      33.448377 -112.074037\n",
      "39      34.483901 -114.322455\n",
      "41      34.048928 -111.093731\n",
      "42      32.715329 -117.157255\n",
      "43      33.448377 -112.074037\n",
      "47      38.895112  -77.036366\n",
      "48      33.745851 -117.826166\n",
      "50      34.096111 -118.105833\n",
      "51      34.052234 -118.243685\n",
      "53      37.629349 -122.400087\n",
      "54       4.598056  -74.075833\n",
      "55      33.804167 -118.158056\n",
      "56      40.735657  -74.172367\n",
      "...           ...         ...\n",
      "233729  32.678109 -117.099197\n",
      "233731  34.019454 -118.491191\n",
      "233732  37.339386 -121.894955\n",
      "233733  40.650000  -73.950000\n",
      "233736  43.009703  -85.520024\n",
      "233737  34.746481  -92.289595\n",
      "233738  41.763711  -72.685093\n",
      "233739  44.310000  -96.790000\n",
      "233740  35.221997 -101.831297\n",
      "233742  40.740389  -73.983385\n",
      "233743  33.641132 -117.918669\n",
      "233744  40.715972  -74.001437\n",
      "233745  41.033986  -73.762910\n",
      "233747  27.937801  -82.285925\n",
      "233750  36.087708  -86.648397\n",
      "233752  26.203407  -98.230012\n",
      "233754  40.740389  -73.983385\n",
      "233756  40.768433  -73.525125\n",
      "233759  42.866680  -88.333427\n",
      "233760  40.704824  -73.650130\n",
      "233762  43.652500  -79.381667\n",
      "233766  42.372640  -71.109653\n",
      "233770  35.994033  -78.898619\n",
      "233781  29.762884  -95.383061\n",
      "233788  41.878114  -87.629798\n",
      "233789  33.575000 -117.725556\n",
      "233790  37.629349 -122.400087\n",
      "233794  29.762884  -95.383061\n",
      "233798  32.802955  -96.769923\n",
      "233799  37.774929 -122.419415\n",
      "\n",
      "[100000 rows x 2 columns]\n"
     ]
    }
   ],
   "source": [
    "data=frame.head(100000)\n",
    "\n",
    "data = data.rename({'created_at      ': 'created_at','latitude      ':'latitude','longitude     ':'longitude'}, axis=1) \n",
    "data=data[['latitude', 'longitude']]\n",
    "print data"
   ]
  },
  {
   "cell_type": "code",
   "execution_count": 139,
   "metadata": {},
   "outputs": [],
   "source": [
    "import numpy as np\n"
   ]
  },
  {
   "cell_type": "code",
   "execution_count": 90,
   "metadata": {},
   "outputs": [],
   "source": [
    "from sklearn.cluster import MeanShift\n",
    "\n",
    "model=MeanShift(bandwidth=0.1, seeds=None, bin_seeding=False, min_bin_freq=1, cluster_all=True, n_jobs=None)\n",
    "preds=model.fit(data)"
   ]
  },
  {
   "cell_type": "code",
   "execution_count": 161,
   "metadata": {},
   "outputs": [
    {
     "name": "stdout",
     "output_type": "stream",
     "text": [
      "[ 40.7177164  -73.99183542]\n",
      "592\n",
      "[ 40.7177164  -73.99183542]\n"
     ]
    }
   ],
   "source": [
    "k=[]\n",
    "for i in range(3231):\n",
    "    k.append(0)\n",
    "for i in preds.labels_:\n",
    "        k[i]=k[i]+1\n",
    "    \n",
    "newlab=[]\n",
    "for i in range(3231):\n",
    "     if k[i]>15:\n",
    "            newlab.append(preds.cluster_centers_[i])\n",
    "print  (newlab[0])\n",
    "off=[]\n",
    "off.append([33.751277, -118.188740]) \n",
    "\n",
    "off.append([25.867736, -80.324116 ])\n",
    "\n",
    "off.append([51.503016, -0.075479 ])\n",
    "\n",
    "off.append([52.378894, 4.885084 ])\n",
    "\n",
    "off.append([39.366487, 117.036146]) \n",
    "off.append([-33.868457, 151.205134])\n",
    "print len(newlab)\n",
    "newlab = np.array(newlab).reshape(592,2)\n",
    "off = np.array(off).reshape(6,2)\n",
    "\n",
    "print newlab[0]"
   ]
  },
  {
   "cell_type": "code",
   "execution_count": 178,
   "metadata": {},
   "outputs": [
    {
     "name": "stdout",
     "output_type": "stream",
     "text": [
      "(592L, 2L)\n",
      "(592L, 2L)\n",
      "(592L, 2L)\n",
      "(592L, 2L)\n",
      "(592L, 2L)\n",
      "(592L, 2L)\n",
      "0.007834758163107856 3377\n",
      "0.007834758163107856\n",
      "[-33.86063043 151.20477593]\n"
     ]
    }
   ],
   "source": [
    "k=0\n",
    "leng=[]\n",
    "for i in range(6):\n",
    "    \n",
    "    print (newlab-off[i]).shape\n",
    "    leng=np.append(leng,(((newlab-off[i])** 2).sum(axis=1) ** 0.5))\n",
    "    \n",
    "        \n",
    "    \n",
    "print min(leng),np.argmin(leng)\n",
    "\n",
    "print (((newlab-off[5])** 2).sum(axis=1) ** 0.5)[417]\n",
    "print newlab[417]"
   ]
  },
  {
   "cell_type": "code",
   "execution_count": null,
   "metadata": {},
   "outputs": [],
   "source": []
  },
  {
   "cell_type": "code",
   "execution_count": null,
   "metadata": {},
   "outputs": [],
   "source": []
  }
 ],
 "metadata": {
  "kernelspec": {
   "display_name": "Python 2",
   "language": "python",
   "name": "python2"
  },
  "language_info": {
   "codemirror_mode": {
    "name": "ipython",
    "version": 2
   },
   "file_extension": ".py",
   "mimetype": "text/x-python",
   "name": "python",
   "nbconvert_exporter": "python",
   "pygments_lexer": "ipython2",
   "version": "2.7.16"
  }
 },
 "nbformat": 4,
 "nbformat_minor": 2
}
