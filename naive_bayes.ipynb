{
 "cells": [
  {
   "cell_type": "code",
   "execution_count": 1,
   "metadata": {},
   "outputs": [
    {
     "name": "stdout",
     "output_type": "stream",
     "text": [
      "[[[2. 0. 0. 0. 0.]]\n",
      "\n",
      " [[0. 3. 0. 0. 0.]]\n",
      "\n",
      " [[0. 0. 4. 0. 0.]]\n",
      "\n",
      " [[0. 0. 0. 5. 0.]]\n",
      "\n",
      " [[0. 0. 0. 0. 6.]]]\n"
     ]
    }
   ],
   "source": [
    "from sklearn import ensemble, model_selection, metrics ,datasets,tree\n",
    "from sklearn.model_selection import cross_val_score\n",
    "from sklearn.naive_bayes import GaussianNB,BernoulliNB,MultinomialNB\n",
    "import numpy as np\n",
    "import pandas as pd\n",
    "digits=datasets.load_digits()\n",
    "bc=datasets.load_breast_cancer()\n",
    "digits.data[:10]\n",
    "b = np.zeros(5)\n",
    "c = np.diag(np.arange(2, 7, dtype = float))\n",
    "res = (b + c)[:, np.newaxis]\n",
    "print(res)"
   ]
  },
  {
   "cell_type": "code",
   "execution_count": 45,
   "metadata": {},
   "outputs": [
    {
     "name": "stdout",
     "output_type": "stream",
     "text": [
      "0.7824741648642153\n",
      "0.8044039894256189\n",
      "0.8842525835135785\n"
     ]
    }
   ],
   "source": [
    "\n",
    "train_data, test_data, train_labels, test_labels = model_selection.train_test_split(digits.data, digits.target)\n",
    "gnd=GaussianNB()\n",
    "bnb=BernoulliNB()\n",
    "mnb=MultinomialNB()\n",
    "gnd.fit(train_data,train_labels)\n",
    "bnb.fit(train_data,train_labels)\n",
    "mnb.fit(train_data,train_labels)\n",
    "\n",
    "print cross_val_score(gnd,test_data, test_labels).mean()\n",
    "print cross_val_score(bnb,test_data, test_labels).mean()\n",
    "print cross_val_score(mnb,test_data, test_labels).mean()"
   ]
  },
  {
   "cell_type": "code",
   "execution_count": 48,
   "metadata": {},
   "outputs": [
    {
     "name": "stdout",
     "output_type": "stream",
     "text": [
      "0.9651179620784484\n",
      "0.5944420321320018\n",
      "0.929656969170647\n"
     ]
    }
   ],
   "source": [
    "\n",
    "train_data, test_data, train_labels, test_labels = model_selection.train_test_split(bc.data, bc.target)\n",
    "gnd=GaussianNB()\n",
    "bnb=BernoulliNB()\n",
    "mnb=MultinomialNB()\n",
    "gnd.fit(train_data,train_labels)\n",
    "bnb.fit(train_data,train_labels)\n",
    "mnb.fit(train_data,train_labels)\n",
    "\n",
    "print cross_val_score(gnd,test_data, test_labels).mean()\n",
    "print cross_val_score(bnb,test_data, test_labels).mean()\n",
    "print cross_val_score(mnb,test_data, test_labels).mean()"
   ]
  },
  {
   "cell_type": "code",
   "execution_count": null,
   "metadata": {},
   "outputs": [],
   "source": []
  },
  {
   "cell_type": "code",
   "execution_count": null,
   "metadata": {},
   "outputs": [],
   "source": []
  }
 ],
 "metadata": {
  "kernelspec": {
   "display_name": "Python 2",
   "language": "python",
   "name": "python2"
  },
  "language_info": {
   "codemirror_mode": {
    "name": "ipython",
    "version": 2
   },
   "file_extension": ".py",
   "mimetype": "text/x-python",
   "name": "python",
   "nbconvert_exporter": "python",
   "pygments_lexer": "ipython2",
   "version": "2.7.16"
  }
 },
 "nbformat": 4,
 "nbformat_minor": 2
}
