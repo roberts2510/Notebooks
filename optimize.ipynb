{
 "cells": [
  {
   "cell_type": "code",
   "execution_count": 62,
   "metadata": {},
   "outputs": [
    {
     "name": "stdout",
     "output_type": "stream",
     "text": [
      "Optimization terminated successfully.\n",
      "         Current function value: 1.745268\n",
      "         Iterations: 6\n",
      "         Function evaluations: 21\n",
      "         Gradient evaluations: 7\n",
      "[4.13627628]\n",
      "1Optimization terminated successfully.\n",
      "         Current function value: 1.745268\n",
      "         Iterations: 6\n",
      "         Function evaluations: 21\n",
      "         Gradient evaluations: 7\n",
      " 1.75\n",
      "Optimization terminated successfully.\n",
      "         Current function value: -11.898895\n",
      "         Iterations: 6\n",
      "         Function evaluations: 21\n",
      "         Gradient evaluations: 7\n",
      "[25.88019321]\n",
      "2Optimization terminated successfully.\n",
      "         Current function value: -11.898895\n",
      "         Iterations: 6\n",
      "         Function evaluations: 21\n",
      "         Gradient evaluations: 7\n",
      " -11.9\n",
      "     fun: array([-11.89889467])\n",
      "     jac: array([1.0658141e-06])\n",
      " message: 'Optimization terminated successfully.'\n",
      "    nfev: 81L\n",
      "     nit: 4\n",
      " success: True\n",
      "       x: array([25.88019474])\n",
      "-11.89889466598132\n",
      "Optimization terminated successfully.\n",
      "         Current function value: -5.000000\n",
      "         Iterations: 0\n",
      "         Function evaluations: 3\n",
      "         Gradient evaluations: 1\n",
      "[30]\n",
      "otvet1Optimization terminated successfully.\n",
      "         Current function value: -5.000000\n",
      "         Iterations: 0\n",
      "         Function evaluations: 3\n",
      "         Gradient evaluations: 1\n",
      " -5\n",
      "     fun: -11.0\n",
      " message: 'Optimization terminated successfully.'\n",
      "    nfev: 62L\n",
      "     nit: 3\n",
      " success: True\n",
      "       x: array([25.54490976])\n",
      "-11\n"
     ]
    }
   ],
   "source": [
    "import numpy as np\n",
    "import math\n",
    "from scipy import linalg\n",
    "from scipy import optimize\n",
    "\n",
    "def f(x):\n",
    "    return (np.sin(x / 5.0) * np.exp(x / 10.0) + 5.0 * np.exp(-x / 2.0))\n",
    "\n",
    "print optimize.fmin_bfgs(f, [2])\n",
    "print '1', round(f(optimize.fmin_bfgs(f, [2])),2)\n",
    "print optimize.fmin_bfgs(f, [30])\n",
    "print '2', round(f(optimize.fmin_bfgs(f, [30])),2)\n",
    "\n",
    "\n",
    "\n",
    "\n",
    "print optimize.differential_evolution(f, [(1.0, 30.0)])\n",
    "p= optimize.differential_evolution(f, [(1.0, 30.0)])\n",
    "print f(25.88019311)\n",
    "\n",
    "\n",
    "\n",
    "\n",
    "\n",
    "def h(x):\n",
    "    return int(f(x))\n",
    "\n",
    "print optimize.fmin_bfgs(h, [30])\n",
    "print 'otvet1',h(optimize.fmin_bfgs(h, [30]))\n",
    "\n",
    "\n",
    "print optimize.differential_evolution(h, [(1.0, 30.0)])\n",
    "print h(25.5527385)\n",
    "\n",
    "\n"
   ]
  },
  {
   "cell_type": "code",
   "execution_count": null,
   "metadata": {},
   "outputs": [],
   "source": []
  },
  {
   "cell_type": "code",
   "execution_count": null,
   "metadata": {},
   "outputs": [],
   "source": []
  },
  {
   "cell_type": "code",
   "execution_count": null,
   "metadata": {},
   "outputs": [],
   "source": []
  },
  {
   "cell_type": "code",
   "execution_count": null,
   "metadata": {},
   "outputs": [],
   "source": []
  },
  {
   "cell_type": "code",
   "execution_count": null,
   "metadata": {},
   "outputs": [],
   "source": []
  },
  {
   "cell_type": "code",
   "execution_count": null,
   "metadata": {},
   "outputs": [],
   "source": []
  },
  {
   "cell_type": "code",
   "execution_count": null,
   "metadata": {},
   "outputs": [],
   "source": []
  }
 ],
 "metadata": {
  "kernelspec": {
   "display_name": "Python 2",
   "language": "python",
   "name": "python2"
  },
  "language_info": {
   "codemirror_mode": {
    "name": "ipython",
    "version": 2
   },
   "file_extension": ".py",
   "mimetype": "text/x-python",
   "name": "python",
   "nbconvert_exporter": "python",
   "pygments_lexer": "ipython2",
   "version": "2.7.16"
  }
 },
 "nbformat": 4,
 "nbformat_minor": 2
}
